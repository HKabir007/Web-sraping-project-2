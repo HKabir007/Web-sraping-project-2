{
 "cells": [
  {
   "cell_type": "markdown",
   "id": "abaf2075",
   "metadata": {},
   "source": [
    "# python program to scrape data for “Data Analyst” Job position in “Bangalore” location"
   ]
  },
  {
   "cell_type": "code",
   "execution_count": null,
   "id": "4adc7312",
   "metadata": {},
   "outputs": [],
   "source": [
    "!pip install selenium"
   ]
  },
  {
   "cell_type": "code",
   "execution_count": null,
   "id": "13e206de",
   "metadata": {},
   "outputs": [],
   "source": [
    "import selenium\n",
    "from selenium import webdriver\n",
    "import pandas as pd\n",
    "import warnings\n",
    "warnings.filterwarnings(\"ignore\")"
   ]
  },
  {
   "cell_type": "code",
   "execution_count": null,
   "id": "8c052c51",
   "metadata": {},
   "outputs": [],
   "source": [
    "driver = webdriver.Edge(r'C:/Users/humay/OneDrive/Desktop/Data Science/msedgedriver.exe')"
   ]
  },
  {
   "cell_type": "code",
   "execution_count": null,
   "id": "dab63042",
   "metadata": {},
   "outputs": [],
   "source": [
    "url = 'https://www.naukri.com/'\n",
    "driver.get(url)"
   ]
  },
  {
   "cell_type": "code",
   "execution_count": null,
   "id": "10d844a0",
   "metadata": {},
   "outputs": [],
   "source": [
    "search_job = driver.find_element_by_class_name(\"suggestor-input\")\n",
    "search_job"
   ]
  },
  {
   "cell_type": "code",
   "execution_count": null,
   "id": "dd7b61b3",
   "metadata": {},
   "outputs": [],
   "source": [
    "search_job.send_keys(\"Data Analyst\")"
   ]
  },
  {
   "cell_type": "code",
   "execution_count": null,
   "id": "b43a8bbc",
   "metadata": {},
   "outputs": [],
   "source": [
    "search_Iocn = driver.find_element_by_xpath('/html/body/div/div[2]/div[3]/div/div/div[3]/div/div/div/input')\n",
    "search_Iocn"
   ]
  },
  {
   "cell_type": "code",
   "execution_count": null,
   "id": "33c6e7b1",
   "metadata": {},
   "outputs": [],
   "source": [
    "search_Iocn.send_keys(\"Bangalore\")"
   ]
  },
  {
   "cell_type": "code",
   "execution_count": null,
   "id": "cfe690de",
   "metadata": {},
   "outputs": [],
   "source": [
    "search_btn = driver.find_element_by_xpath('/html/body/div/div[2]/div[3]/div/div/div[6]')\n",
    "search_btn"
   ]
  },
  {
   "cell_type": "code",
   "execution_count": null,
   "id": "ab51f26d",
   "metadata": {},
   "outputs": [],
   "source": [
    "search_btn.click()"
   ]
  },
  {
   "cell_type": "code",
   "execution_count": null,
   "id": "aea6f1ce",
   "metadata": {},
   "outputs": [],
   "source": [
    "salary_check = driver.find_element_by_xpath('/html/body/div/div[3]/div[2]/section[1]/div[2]/div[4]/div[2]/div[4]/label/i')\n",
    "salary_check"
   ]
  },
  {
   "cell_type": "code",
   "execution_count": null,
   "id": "ba92a292",
   "metadata": {},
   "outputs": [],
   "source": [
    "salary_check.click()"
   ]
  },
  {
   "cell_type": "code",
   "execution_count": null,
   "id": "4e2c887e",
   "metadata": {},
   "outputs": [],
   "source": [
    "title_tags = driver.find_elements_by_xpath('//a[@class=\"title fw500 ellipsis\"]')\n",
    "len(title_tags)\n",
    "title_tags[0:2]"
   ]
  },
  {
   "cell_type": "code",
   "execution_count": null,
   "id": "f180e4b5",
   "metadata": {},
   "outputs": [],
   "source": [
    "job_titles = []\n",
    "\n",
    "for i in title_tags:\n",
    "    job_titles.append(i.text)\n",
    "    \n",
    "len(job_titles)\n",
    "job_titles[0:2]"
   ]
  },
  {
   "cell_type": "code",
   "execution_count": null,
   "id": "00fc76bc",
   "metadata": {},
   "outputs": [],
   "source": [
    "location_tags = driver.find_elements_by_xpath('//li[@class=\"fleft grey-text br2 placeHolderLi location\"]')\n",
    "len(location_tags)\n",
    "location_tags[0:2]"
   ]
  },
  {
   "cell_type": "code",
   "execution_count": null,
   "id": "180188a4",
   "metadata": {},
   "outputs": [],
   "source": [
    "job_locations = []\n",
    "\n",
    "for i in location_tags:\n",
    "    job_locations.append(i.text)\n",
    "    \n",
    "len(job_locations)\n",
    "job_locations[0:2]"
   ]
  },
  {
   "cell_type": "code",
   "execution_count": null,
   "id": "35fc29d1",
   "metadata": {},
   "outputs": [],
   "source": [
    "company_tags = driver.find_elements_by_xpath('//a[@class=\"subTitle ellipsis fleft\"]')\n",
    "len(company_tags)\n",
    "company_tags[0:2]"
   ]
  },
  {
   "cell_type": "code",
   "execution_count": null,
   "id": "b95995bf",
   "metadata": {},
   "outputs": [],
   "source": [
    "company_name = []\n",
    "\n",
    "for i in company_tags:\n",
    "    company_name.append(i.text)\n",
    "    \n",
    "len(company_name)\n",
    "company_name[0:2]"
   ]
  },
  {
   "cell_type": "code",
   "execution_count": null,
   "id": "f03a4631",
   "metadata": {},
   "outputs": [],
   "source": [
    "experience_tags = driver.find_elements_by_xpath('//li[@class=\"fleft grey-text br2 placeHolderLi experience\"]')\n",
    "len(experience_tags)\n",
    "experience_tags[0:2]"
   ]
  },
  {
   "cell_type": "code",
   "execution_count": null,
   "id": "a06135be",
   "metadata": {},
   "outputs": [],
   "source": [
    "experience_required = []\n",
    "\n",
    "for i in experience_tags:\n",
    "    experience_required.append(i.text)\n",
    "    \n",
    "len(experience_required)\n",
    "experience_required[0:2]"
   ]
  },
  {
   "cell_type": "code",
   "execution_count": null,
   "id": "16db8e46",
   "metadata": {},
   "outputs": [],
   "source": [
    "len(job_titles), len(job_locations), len(company_name), len(experience_required)"
   ]
  },
  {
   "cell_type": "code",
   "execution_count": null,
   "id": "5c0f714e",
   "metadata": {},
   "outputs": [],
   "source": [
    "jobs = pd.DataFrame()\n",
    "jobs['Job Title'] = job_titles\n",
    "jobs['Job Location'] = job_locations\n",
    "jobs['Company Name'] = company_name\n",
    "jobs['Experience Required'] = experience_required\n",
    "jobs"
   ]
  },
  {
   "cell_type": "code",
   "execution_count": null,
   "id": "de1cd2e6",
   "metadata": {},
   "outputs": [],
   "source": [
    "jobs[:11]"
   ]
  },
  {
   "cell_type": "markdown",
   "id": "025cb7a7",
   "metadata": {},
   "source": [
    "# Python program to scrape data for “Data Scientist” Job position in “Bangalore” location"
   ]
  },
  {
   "cell_type": "code",
   "execution_count": null,
   "id": "ac25bf3a",
   "metadata": {},
   "outputs": [],
   "source": [
    "search_job.send_keys(\"Data Scientist\")"
   ]
  },
  {
   "cell_type": "code",
   "execution_count": null,
   "id": "c51cf98d",
   "metadata": {},
   "outputs": [],
   "source": [
    "search_Iocn = driver.find_element_by_xpath('/html/body/div/div[2]/div[3]/div/div/div[3]/div/div/div/input')\n",
    "search_Iocn"
   ]
  },
  {
   "cell_type": "code",
   "execution_count": null,
   "id": "1e1321f3",
   "metadata": {},
   "outputs": [],
   "source": [
    "search_Iocn.send_keys(\"Bangalore\")"
   ]
  },
  {
   "cell_type": "code",
   "execution_count": null,
   "id": "9517d992",
   "metadata": {},
   "outputs": [],
   "source": [
    "search_btn = driver.find_element_by_xpath('/html/body/div/div[2]/div[3]/div/div/div[6]')\n",
    "search_btn"
   ]
  },
  {
   "cell_type": "code",
   "execution_count": null,
   "id": "37bb7676",
   "metadata": {},
   "outputs": [],
   "source": [
    "search_btn.click()"
   ]
  },
  {
   "cell_type": "code",
   "execution_count": null,
   "id": "68140012",
   "metadata": {},
   "outputs": [],
   "source": [
    "title_tag = driver.find_elements_by_xpath('//a[@class=\"title fw500 ellipsis\"]')\n",
    "len(title_tag)\n",
    "title_tag[0:2]"
   ]
  },
  {
   "cell_type": "code",
   "execution_count": null,
   "id": "b11ead31",
   "metadata": {},
   "outputs": [],
   "source": [
    "job_title = []\n",
    "\n",
    "for i in title_tag:\n",
    "    job_title.append(i.text)\n",
    "    \n",
    "len(job_title)\n",
    "job_title[0:2]"
   ]
  },
  {
   "cell_type": "code",
   "execution_count": null,
   "id": "14f4eea0",
   "metadata": {},
   "outputs": [],
   "source": [
    "location_tag = driver.find_elements_by_xpath('//li[@class=\"fleft grey-text br2 placeHolderLi location\"]')\n",
    "len(location_tag)\n",
    "location_tag[0:2]"
   ]
  },
  {
   "cell_type": "code",
   "execution_count": null,
   "id": "fa0f1712",
   "metadata": {},
   "outputs": [],
   "source": [
    "job_location = []\n",
    "\n",
    "for i in location_tag:\n",
    "    job_location.append(i.text)\n",
    "    \n",
    "len(job_location)\n",
    "job_location[0:2]"
   ]
  },
  {
   "cell_type": "code",
   "execution_count": null,
   "id": "365a7748",
   "metadata": {},
   "outputs": [],
   "source": [
    "company_tag = driver.find_elements_by_xpath('//a[@class=\"subTitle ellipsis fleft\"]')\n",
    "len(company_tag)\n",
    "company_tag[0:2]"
   ]
  },
  {
   "cell_type": "code",
   "execution_count": null,
   "id": "01898f49",
   "metadata": {},
   "outputs": [],
   "source": [
    "company_names = []\n",
    "\n",
    "for i in company_tag:\n",
    "    company_names.append(i.text)\n",
    "    \n",
    "len(company_names)\n",
    "company_names[0:2]"
   ]
  },
  {
   "cell_type": "code",
   "execution_count": null,
   "id": "99e9fd30",
   "metadata": {},
   "outputs": [],
   "source": [
    "len(job_title), len(job_location), len(company_names)"
   ]
  },
  {
   "cell_type": "code",
   "execution_count": null,
   "id": "ddc85cec",
   "metadata": {},
   "outputs": [],
   "source": [
    "job = pd.DataFrame()\n",
    "job['Job Title'] = job_title\n",
    "job['Job Location'] = job_location\n",
    "job['Company Name'] = company_names\n",
    "\n",
    "job[0:10]"
   ]
  },
  {
   "cell_type": "markdown",
   "id": "24afc89a",
   "metadata": {},
   "source": [
    "# Python program to scrape data for “Data Scientist” Job position in “Delhi/NCR” location using filter"
   ]
  },
  {
   "cell_type": "code",
   "execution_count": null,
   "id": "e65bda5d",
   "metadata": {},
   "outputs": [],
   "source": [
    "!pip install selenium"
   ]
  },
  {
   "cell_type": "code",
   "execution_count": null,
   "id": "5d76c8ec",
   "metadata": {},
   "outputs": [],
   "source": [
    "import selenium\n",
    "from selenium import webdriver\n",
    "import pandas as pd\n",
    "import warnings\n",
    "warnings.filterwarnings(\"ignore\")"
   ]
  },
  {
   "cell_type": "code",
   "execution_count": null,
   "id": "0b1adb3a",
   "metadata": {},
   "outputs": [],
   "source": [
    "driver = webdriver.Edge(r'C:/Users/humay/OneDrive/Desktop/Data Science/msedgedriver.exe')"
   ]
  },
  {
   "cell_type": "code",
   "execution_count": null,
   "id": "3c77d66e",
   "metadata": {},
   "outputs": [],
   "source": [
    "url = 'https://www.naukri.com/'\n",
    "driver.get(url)"
   ]
  },
  {
   "cell_type": "code",
   "execution_count": null,
   "id": "35c2e98a",
   "metadata": {},
   "outputs": [],
   "source": [
    "search_job = driver.find_element_by_class_name(\"suggestor-input\")\n",
    "search_job"
   ]
  },
  {
   "cell_type": "code",
   "execution_count": null,
   "id": "457da5a1",
   "metadata": {},
   "outputs": [],
   "source": [
    "search_job.send_keys(\"Data Scientist\")"
   ]
  },
  {
   "cell_type": "code",
   "execution_count": null,
   "id": "4baf7c3d",
   "metadata": {},
   "outputs": [],
   "source": [
    "search_btn = driver.find_element_by_xpath('/html/body/div/div[2]/div[3]/div/div/div[6]')\n",
    "search_btn"
   ]
  },
  {
   "cell_type": "code",
   "execution_count": null,
   "id": "4d131223",
   "metadata": {},
   "outputs": [],
   "source": [
    "search_btn.click()"
   ]
  },
  {
   "cell_type": "code",
   "execution_count": null,
   "id": "909ff2e6",
   "metadata": {},
   "outputs": [],
   "source": [
    "salary_check = driver.find_element_by_xpath('/html/body/div[1]/div[3]/div[2]/section[1]/div[2]/div[4]/div[2]/div[2]/label/i')\n",
    "salary_check"
   ]
  },
  {
   "cell_type": "code",
   "execution_count": null,
   "id": "cad63cbe",
   "metadata": {},
   "outputs": [],
   "source": [
    "salary_check.click()"
   ]
  },
  {
   "cell_type": "code",
   "execution_count": null,
   "id": "9b270cf3",
   "metadata": {},
   "outputs": [],
   "source": [
    "location_check =driver.find_element_by_xpath('/html/body/div[1]/div[3]/div[2]/section[1]/div[2]/div[4]/div[2]/div[3]/label/i')\n",
    "location_check"
   ]
  },
  {
   "cell_type": "code",
   "execution_count": null,
   "id": "b34e7996",
   "metadata": {},
   "outputs": [],
   "source": [
    "location_check.click()"
   ]
  },
  {
   "cell_type": "code",
   "execution_count": null,
   "id": "5d26e5d1",
   "metadata": {},
   "outputs": [],
   "source": [
    "title_tags = driver.find_elements_by_xpath('//a[@class=\"title fw500 ellipsis\"]')\n",
    "len(title_tags)\n",
    "title_tags[0:2]"
   ]
  },
  {
   "cell_type": "code",
   "execution_count": null,
   "id": "288a9d83",
   "metadata": {},
   "outputs": [],
   "source": [
    "job_titles = []\n",
    "\n",
    "for i in title_tags:\n",
    "    job_titles.append(i.text)\n",
    "    \n",
    "len(job_titles)\n",
    "job_titles[0:2]"
   ]
  },
  {
   "cell_type": "code",
   "execution_count": null,
   "id": "2bc0d64a",
   "metadata": {},
   "outputs": [],
   "source": [
    "location_tags = driver.find_elements_by_xpath('//li[@class=\"fleft grey-text br2 placeHolderLi location\"]')\n",
    "len(location_tags)\n",
    "location_tags[0:2]"
   ]
  },
  {
   "cell_type": "code",
   "execution_count": null,
   "id": "5af2dc69",
   "metadata": {},
   "outputs": [],
   "source": [
    "job_locations = []\n",
    "\n",
    "for i in location_tags:\n",
    "    job_locations.append(i.text)\n",
    "    \n",
    "len(job_locations)\n",
    "job_locations[0:2]"
   ]
  },
  {
   "cell_type": "code",
   "execution_count": null,
   "id": "04ddc5f0",
   "metadata": {},
   "outputs": [],
   "source": [
    "company_tags = driver.find_elements_by_xpath('//a[@class=\"subTitle ellipsis fleft\"]')\n",
    "len(company_tagS)\n",
    "company_tagS[0:2]"
   ]
  },
  {
   "cell_type": "code",
   "execution_count": null,
   "id": "89546ab0",
   "metadata": {},
   "outputs": [],
   "source": [
    "company_names = []\n",
    "\n",
    "for i in company_tags:\n",
    "    company_names.append(i.text)\n",
    "    \n",
    "len(company_names)\n",
    "company_names[0:2]"
   ]
  },
  {
   "cell_type": "code",
   "execution_count": null,
   "id": "8c3a32b9",
   "metadata": {},
   "outputs": [],
   "source": [
    "experience_tags = driver.find_elements_by_xpath('//li[@class=\"fleft grey-text br2 placeHolderLi experience\"]')\n",
    "len(experience_tags)\n",
    "experience_tags[0:2]"
   ]
  },
  {
   "cell_type": "code",
   "execution_count": null,
   "id": "0c0579f1",
   "metadata": {},
   "outputs": [],
   "source": [
    "experience_required = []\n",
    "\n",
    "for i in experience_tags:\n",
    "    experience_required.append(i.text)\n",
    "    \n",
    "len(experience_required)\n",
    "experience_required[0:2]"
   ]
  },
  {
   "cell_type": "code",
   "execution_count": null,
   "id": "47fd0ad3",
   "metadata": {},
   "outputs": [],
   "source": [
    "len(job_titles), len(job_locations), len(company_names), len(experience_required)"
   ]
  },
  {
   "cell_type": "code",
   "execution_count": null,
   "id": "930248bf",
   "metadata": {},
   "outputs": [],
   "source": [
    "job = pd.DataFrame()\n",
    "job['Job Title'] = job_titles\n",
    "job['Job Location'] = job_locations\n",
    "job['Company Name'] = company_names\n",
    "job['Experience Required'] = experience_required\n",
    "\n",
    "job[0:10]"
   ]
  },
  {
   "cell_type": "markdown",
   "id": "717dbaeb",
   "metadata": {},
   "source": [
    "# Scraping data of first 100 sunglasses listings on flipkart.com"
   ]
  },
  {
   "cell_type": "code",
   "execution_count": null,
   "id": "87b45ca7",
   "metadata": {},
   "outputs": [],
   "source": [
    "url1 = 'https://www.flipkart.com/'\n",
    "driver.get(url1)"
   ]
  },
  {
   "cell_type": "code",
   "execution_count": null,
   "id": "68998980",
   "metadata": {},
   "outputs": [],
   "source": [
    "search_sunglass = driver.find_element_by_class_name(\"_3704LK\")\n",
    "search_sunglass"
   ]
  },
  {
   "cell_type": "code",
   "execution_count": null,
   "id": "75a53141",
   "metadata": {},
   "outputs": [],
   "source": [
    "search_sunglass.send_keys(\"sunglasses\")"
   ]
  },
  {
   "cell_type": "code",
   "execution_count": null,
   "id": "fb03775e",
   "metadata": {},
   "outputs": [],
   "source": [
    "search_sunglass"
   ]
  },
  {
   "cell_type": "code",
   "execution_count": null,
   "id": "24c8295c",
   "metadata": {},
   "outputs": [],
   "source": [
    "search_btn = driver.find_element_by_xpath('/html/body/div[1]/div/div[1]/div[1]/div[2]/div[2]/form/div/button')\n",
    "search_btn"
   ]
  },
  {
   "cell_type": "code",
   "execution_count": null,
   "id": "f2bbe508",
   "metadata": {},
   "outputs": [],
   "source": [
    "search_btn.click()"
   ]
  },
  {
   "cell_type": "code",
   "execution_count": null,
   "id": "6d7b6cea",
   "metadata": {},
   "outputs": [],
   "source": [
    "brand_tags = driver.find_elements_by_xpath('//div[@class=\"_2WkVRV\"]')\n",
    "len(brand_tags)\n",
    "brand_tags[0:2]"
   ]
  },
  {
   "cell_type": "code",
   "execution_count": null,
   "id": "6f6b16ae",
   "metadata": {},
   "outputs": [],
   "source": [
    "brand_name = []\n",
    "\n",
    "for i in brand_tags:\n",
    "    brand_name.append(i.text)\n",
    "    \n",
    "len(brand_name)\n",
    "brand_name[0:2]"
   ]
  },
  {
   "cell_type": "code",
   "execution_count": null,
   "id": "fb38bb0f",
   "metadata": {},
   "outputs": [],
   "source": [
    "len(brand_name)"
   ]
  },
  {
   "cell_type": "code",
   "execution_count": null,
   "id": "b7639be1",
   "metadata": {},
   "outputs": [],
   "source": [
    "prodct_description_tags = driver.find_elements_by_xpath('//a[@class=\"IRpwTa\"]')\n",
    "len(prodct_description_tags)\n",
    "prodct_description_tags[0:2]"
   ]
  },
  {
   "cell_type": "code",
   "execution_count": null,
   "id": "b50e06d8",
   "metadata": {},
   "outputs": [],
   "source": [
    "product_description = []\n",
    "\n",
    "for i in prodct_description_tags:\n",
    "    product_description.append(i.text)\n",
    "    \n",
    "len(product_description)\n",
    "product_description[0:2]"
   ]
  },
  {
   "cell_type": "code",
   "execution_count": null,
   "id": "535552f0",
   "metadata": {},
   "outputs": [],
   "source": [
    "price_tags = driver.find_elements_by_xpath('//div[@class=\"_30jeq3\"]')\n",
    "len(price_tags)\n",
    "price_tags[0:2]"
   ]
  },
  {
   "cell_type": "code",
   "execution_count": null,
   "id": "cd995d0d",
   "metadata": {},
   "outputs": [],
   "source": [
    "price = []\n",
    "\n",
    "for i in price_tags:\n",
    "    price.append(i.text)\n",
    "    \n",
    "len(price)\n",
    "price[0:2]"
   ]
  },
  {
   "cell_type": "code",
   "execution_count": null,
   "id": "57a1f873",
   "metadata": {},
   "outputs": [],
   "source": [
    "discount_tags = driver.find_elements_by_xpath('//div[@class=\"_3Ay6Sb\"]')\n",
    "len(discount_tags)\n",
    "discount_tags[0:2]"
   ]
  },
  {
   "cell_type": "code",
   "execution_count": null,
   "id": "4a68b96b",
   "metadata": {},
   "outputs": [],
   "source": [
    "discount = []\n",
    "\n",
    "for i in discount_tags:\n",
    "    discount.append(i.text)\n",
    "    \n",
    "len(discount)\n",
    "discount[0:2]"
   ]
  },
  {
   "cell_type": "code",
   "execution_count": null,
   "id": "7d8c9285",
   "metadata": {},
   "outputs": [],
   "source": [
    "len(brand_name), len(product_description), len(price), len(discount)"
   ]
  },
  {
   "cell_type": "code",
   "execution_count": null,
   "id": "ba87a842",
   "metadata": {},
   "outputs": [],
   "source": [
    "sunglasses_list1 = pd.DataFrame()\n",
    "sunglasses_list1['Brand Name'] = brand_name\n",
    "sunglasses_list1['Product Description'] = product_description\n",
    "sunglasses_list1['Price'] = price\n",
    "sunglasses_list1['Discount'] = discount\n",
    "\n",
    "sunglasses_list1"
   ]
  },
  {
   "cell_type": "code",
   "execution_count": null,
   "id": "5b0b5ec5",
   "metadata": {},
   "outputs": [],
   "source": [
    "next_btn = driver.find_element_by_xpath('/html/body/div[1]/div/div[3]/div[1]/div[2]/div[12]/div/div/nav/a[11]')\n",
    "next_btn"
   ]
  },
  {
   "cell_type": "code",
   "execution_count": null,
   "id": "77d3b5ec",
   "metadata": {},
   "outputs": [],
   "source": [
    "next_btn.click()"
   ]
  },
  {
   "cell_type": "code",
   "execution_count": null,
   "id": "199052ac",
   "metadata": {},
   "outputs": [],
   "source": [
    "brand_tags1 = driver.find_elements_by_xpath('//div[@class=\"_2WkVRV\"]')\n",
    "len(brand_tags1)\n",
    "brand_tags1[0:2]"
   ]
  },
  {
   "cell_type": "code",
   "execution_count": null,
   "id": "d3e3ea3b",
   "metadata": {},
   "outputs": [],
   "source": [
    "brand_name1 = []\n",
    "\n",
    "for i in brand_tags1:\n",
    "    brand_name1.append(i.text)\n",
    "    \n",
    "len(brand_name1)\n",
    "brand_name1[0:2]"
   ]
  },
  {
   "cell_type": "code",
   "execution_count": null,
   "id": "c9c8ae21",
   "metadata": {},
   "outputs": [],
   "source": [
    "prodct_description_tags1 = driver.find_elements_by_xpath('//a[@class=\"IRpwTa\"]')\n",
    "len(prodct_description_tags1)\n",
    "prodct_description_tags1[0:2]"
   ]
  },
  {
   "cell_type": "code",
   "execution_count": null,
   "id": "fa0c6a07",
   "metadata": {},
   "outputs": [],
   "source": [
    "product_description1 = []\n",
    "\n",
    "for i in prodct_description_tags1:\n",
    "    product_description1.append(i.text)\n",
    "    \n",
    "len(product_description1)\n",
    "product_description1[0:2]"
   ]
  },
  {
   "cell_type": "code",
   "execution_count": null,
   "id": "a1f3ed9a",
   "metadata": {},
   "outputs": [],
   "source": [
    "price_tags1 = driver.find_elements_by_xpath('//div[@class=\"_30jeq3\"]')\n",
    "len(price_tags1)\n",
    "price_tags1[0:2]"
   ]
  },
  {
   "cell_type": "code",
   "execution_count": null,
   "id": "65105cb7",
   "metadata": {},
   "outputs": [],
   "source": [
    "price1 = []\n",
    "\n",
    "for i in price_tags1:\n",
    "    price1.append(i.text)\n",
    "    \n",
    "len(price1)\n",
    "price1[0:2]"
   ]
  },
  {
   "cell_type": "code",
   "execution_count": null,
   "id": "027187b1",
   "metadata": {},
   "outputs": [],
   "source": [
    "discount_tags1 = driver.find_elements_by_xpath('//div[@class=\"_3Ay6Sb\"]')\n",
    "len(discount_tags1)\n",
    "discount_tags1[0:2]"
   ]
  },
  {
   "cell_type": "code",
   "execution_count": null,
   "id": "d6723177",
   "metadata": {},
   "outputs": [],
   "source": [
    "discount1 = []\n",
    "\n",
    "for i in discount_tags1:\n",
    "    discount1.append(i.text)\n",
    "    \n",
    "len(discount1)\n",
    "discount1[0:2]"
   ]
  },
  {
   "cell_type": "code",
   "execution_count": null,
   "id": "ab255b62",
   "metadata": {},
   "outputs": [],
   "source": [
    "len(brand_name1), len(product_description1), len(price1), len(discount1)"
   ]
  },
  {
   "cell_type": "code",
   "execution_count": null,
   "id": "4c92a9bc",
   "metadata": {},
   "outputs": [],
   "source": [
    "sunglasses_list2 = pd.DataFrame()\n",
    "sunglasses_list2['Brand Name'] = brand_name1\n",
    "sunglasses_list2['Product Description'] = product_description1\n",
    "sunglasses_list2['Price'] = price1\n",
    "sunglasses_list2['Discount'] = discount1\n",
    "\n",
    "sunglasses_list2"
   ]
  },
  {
   "cell_type": "code",
   "execution_count": null,
   "id": "71d71d3c",
   "metadata": {},
   "outputs": [],
   "source": [
    "next_btn1 = driver.find_element_by_xpath('/html/body/div[1]/div/div[3]/div[1]/div[2]/div[12]/div/div/nav/a[11]')\n",
    "next_btn1"
   ]
  },
  {
   "cell_type": "code",
   "execution_count": null,
   "id": "e5ae60cd",
   "metadata": {},
   "outputs": [],
   "source": [
    "next_btn1.click()"
   ]
  },
  {
   "cell_type": "code",
   "execution_count": null,
   "id": "39063bd2",
   "metadata": {},
   "outputs": [],
   "source": [
    "brand_tags2 = driver.find_elements_by_xpath('//div[@class=\"_2WkVRV\"]')\n",
    "len(brand_tags2)\n",
    "brand_tags2[0:2]"
   ]
  },
  {
   "cell_type": "code",
   "execution_count": null,
   "id": "1d865653",
   "metadata": {},
   "outputs": [],
   "source": [
    "brand_name2 = []\n",
    "\n",
    "for i in brand_tags2:\n",
    "    brand_name2.append(i.text)\n",
    "    \n",
    "len(brand_name2)\n",
    "brand_name2[0:2]"
   ]
  },
  {
   "cell_type": "code",
   "execution_count": null,
   "id": "9b3478fc",
   "metadata": {},
   "outputs": [],
   "source": [
    "prodct_description_tags2 = driver.find_elements_by_xpath('//a[@class=\"IRpwTa\"]')\n",
    "len(prodct_description_tags2)\n",
    "prodct_description_tags2[0:2]"
   ]
  },
  {
   "cell_type": "code",
   "execution_count": null,
   "id": "f92ee173",
   "metadata": {},
   "outputs": [],
   "source": [
    "product_description2 = []\n",
    "\n",
    "for i in prodct_description_tags2:\n",
    "    product_description2.append(i.text)\n",
    "    \n",
    "len(product_description2)\n",
    "product_description2[0:2]"
   ]
  },
  {
   "cell_type": "code",
   "execution_count": null,
   "id": "3e7d1622",
   "metadata": {},
   "outputs": [],
   "source": [
    "price_tags2 = driver.find_elements_by_xpath('//div[@class=\"_30jeq3\"]')\n",
    "len(price_tags2)\n",
    "price_tags2[0:2]"
   ]
  },
  {
   "cell_type": "code",
   "execution_count": null,
   "id": "45fa6094",
   "metadata": {},
   "outputs": [],
   "source": [
    "price2 = []\n",
    "\n",
    "for i in price_tags2:\n",
    "    price2.append(i.text)\n",
    "    \n",
    "len(price2)\n",
    "price2[0:2]"
   ]
  },
  {
   "cell_type": "code",
   "execution_count": null,
   "id": "cbf1ec00",
   "metadata": {},
   "outputs": [],
   "source": [
    "discount_tags2 = driver.find_elements_by_xpath('//div[@class=\"_3Ay6Sb\"]')\n",
    "len(discount_tags2)\n",
    "discount_tags2[0:2]"
   ]
  },
  {
   "cell_type": "code",
   "execution_count": null,
   "id": "b6e86ad8",
   "metadata": {},
   "outputs": [],
   "source": [
    "discount2 = []\n",
    "\n",
    "for i in discount_tags2:\n",
    "    discount2.append(i.text)\n",
    "    \n",
    "len(discount2)\n",
    "discount2[0:2]"
   ]
  },
  {
   "cell_type": "code",
   "execution_count": null,
   "id": "7b11520b",
   "metadata": {},
   "outputs": [],
   "source": [
    "len(brand_name2), len(product_description2), len(price2), len(discount2)"
   ]
  },
  {
   "cell_type": "code",
   "execution_count": null,
   "id": "5528177f",
   "metadata": {},
   "outputs": [],
   "source": [
    "sunglasses_list3 = pd.DataFrame()\n",
    "sunglasses_list3['Brand Name'] = brand_name2\n",
    "sunglasses_list3['Product Description'] = product_description2\n",
    "sunglasses_list3['Price'] = price2\n",
    "sunglasses_list3['Discount'] = discount2\n",
    "\n",
    "sunglasses_list3"
   ]
  },
  {
   "cell_type": "code",
   "execution_count": null,
   "id": "7976988c",
   "metadata": {},
   "outputs": [],
   "source": [
    "sunglasses_list = pd.concat([sunglasses_list1, sunglasses_list2, sunglasses_list3], join = 'inner')\n",
    "sunglasses_list[0:100]"
   ]
  },
  {
   "cell_type": "markdown",
   "id": "ebf7d2fb",
   "metadata": {},
   "source": [
    "# Q5: Scrape 100 reviews data from flipkart.com for iphone11 phone"
   ]
  },
  {
   "cell_type": "code",
   "execution_count": null,
   "id": "b2526e35",
   "metadata": {},
   "outputs": [],
   "source": [
    "driver = webdriver.Edge(r'C:/Users/humay/OneDrive/Desktop/Data Science/msedgedriver.exe')"
   ]
  },
  {
   "cell_type": "code",
   "execution_count": null,
   "id": "6ca8cdfb",
   "metadata": {},
   "outputs": [],
   "source": [
    "url2 = 'https://www.flipkart.com/apple-iphone-11-black-64-gb-includes- earpods-power- adapter/p/itm0f37c2240b217?pid=MOBFKCTSVZAXUHGR&lid=LSTMOBFKC TSVZAXUHGREPBFGI&marketplace'\n",
    "driver.get(url2)"
   ]
  },
  {
   "cell_type": "code",
   "execution_count": null,
   "id": "7743d90c",
   "metadata": {},
   "outputs": [],
   "source": [
    "all_review = driver.find_element_by_xpath('/html/body/div[1]/div/div[3]/div[1]/div[2]/div[8]/div/div/div[5]/div/a/div')\n",
    "all_review.click()"
   ]
  },
  {
   "cell_type": "code",
   "execution_count": null,
   "id": "0d800498",
   "metadata": {},
   "outputs": [],
   "source": [
    "for i in range(2):\n",
    "    print('Scraping page' ,i+1)\n",
    "    iphone_rating = driver.find_elements_by_xpath('//div[@class=\"_3LWZlK _1BLPMq\"]')\n",
    "    next_btn = driver.find_element_by_xpath('/html/body/div[1]/div/div[3]/div/div/div[2]/div[13]/div/div/nav/a[12]')\n",
    "    next_btn.click()\n",
    "    "
   ]
  },
  {
   "cell_type": "markdown",
   "id": "ba3a99b9",
   "metadata": {},
   "source": [
    "Cannot make it. Help needed."
   ]
  },
  {
   "cell_type": "markdown",
   "id": "558178ff",
   "metadata": {},
   "source": [
    "# Q6: Scrape data for first 100 sneakers you find when you visit flipkart.com"
   ]
  },
  {
   "cell_type": "code",
   "execution_count": null,
   "id": "329df4e3",
   "metadata": {},
   "outputs": [],
   "source": [
    "driver = webdriver.Edge(r'C:/Users/humay/OneDrive/Desktop/Data Science/msedgedriver.exe')"
   ]
  },
  {
   "cell_type": "code",
   "execution_count": null,
   "id": "1600a5ab",
   "metadata": {},
   "outputs": [],
   "source": [
    "url3 = 'https://www.flipkart.com'\n",
    "driver.get(url3)"
   ]
  },
  {
   "cell_type": "code",
   "execution_count": null,
   "id": "13c94569",
   "metadata": {},
   "outputs": [],
   "source": [
    "search_sneakers = driver.find_element_by_class_name(\"_3704LK\")\n",
    "search_sneakers"
   ]
  },
  {
   "cell_type": "code",
   "execution_count": null,
   "id": "852b1303",
   "metadata": {},
   "outputs": [],
   "source": [
    "search_sneakers.send_keys(\"sneakers\")\n",
    "search_sneakers"
   ]
  },
  {
   "cell_type": "code",
   "execution_count": null,
   "id": "2aec2847",
   "metadata": {},
   "outputs": [],
   "source": [
    "search_btn = driver.find_element_by_class_name(\"L0Z3Pu\")\n",
    "search_btn"
   ]
  },
  {
   "cell_type": "code",
   "execution_count": null,
   "id": "6d9354a6",
   "metadata": {},
   "outputs": [],
   "source": [
    "search_btn.click()"
   ]
  },
  {
   "cell_type": "code",
   "execution_count": null,
   "id": "b65e8690",
   "metadata": {},
   "outputs": [],
   "source": [
    "brand_tag1 = driver.find_elements_by_xpath('//div[@class=\"_2WkVRV\"]')\n",
    "len(brand_tag1)\n",
    "brand_tag1[0:2]"
   ]
  },
  {
   "cell_type": "code",
   "execution_count": null,
   "id": "eb261024",
   "metadata": {},
   "outputs": [],
   "source": [
    "sneakers_brand = []\n",
    "\n",
    "for i in brand_tag1:\n",
    "    sneakers_brand.append(i.text)\n",
    "    \n",
    "len(sneakers_brand)\n",
    "sneakers_brand[0:2]"
   ]
  },
  {
   "cell_type": "code",
   "execution_count": null,
   "id": "3c2e0d0f",
   "metadata": {},
   "outputs": [],
   "source": [
    "des_tag1 = driver.find_elements_by_xpath('//div[@class=\"_2WkVRV\"]')\n",
    "len(des_tag1)\n",
    "des_tag1[0:2]"
   ]
  },
  {
   "cell_type": "code",
   "execution_count": null,
   "id": "c017a58f",
   "metadata": {},
   "outputs": [],
   "source": [
    "product_description = []\n",
    "\n",
    "for i in des_tag1:\n",
    "    product_description.append(i.text)\n",
    "    \n",
    "len(product_description)\n",
    "product_description[0:5]"
   ]
  },
  {
   "cell_type": "code",
   "execution_count": null,
   "id": "20e3de42",
   "metadata": {},
   "outputs": [],
   "source": [
    "len(product_description)"
   ]
  },
  {
   "cell_type": "code",
   "execution_count": null,
   "id": "f78b4b3f",
   "metadata": {},
   "outputs": [],
   "source": [
    "price_tag1 = driver.find_elements_by_xpath('//div[@class=\"_30jeq3\"]')\n",
    "len(price_tag1)\n",
    "price_tag1[0:2]"
   ]
  },
  {
   "cell_type": "code",
   "execution_count": null,
   "id": "f9318ecc",
   "metadata": {},
   "outputs": [],
   "source": [
    "price = []\n",
    "\n",
    "for i in price_tag1:\n",
    "    price.append(i.text)\n",
    "    \n",
    "len(price)\n",
    "price[0:2]"
   ]
  },
  {
   "cell_type": "code",
   "execution_count": null,
   "id": "2b55b2e0",
   "metadata": {},
   "outputs": [],
   "source": [
    "next_btn = driver.find_element_by_xpath(\"/html/body/div[1]/div/div[3]/div[1]/div[2]/div[12]/div/div/nav/a[11]\")\n",
    "next_btn"
   ]
  },
  {
   "cell_type": "code",
   "execution_count": null,
   "id": "77a5d07e",
   "metadata": {},
   "outputs": [],
   "source": [
    "next_btn.click()"
   ]
  },
  {
   "cell_type": "code",
   "execution_count": null,
   "id": "1242e432",
   "metadata": {},
   "outputs": [],
   "source": [
    "brand_tag2 = driver.find_elements_by_xpath('//div[@class=\"_2WkVRV\"]')\n",
    "len(brand_tag2)\n",
    "brand_tag2[0:2]"
   ]
  },
  {
   "cell_type": "code",
   "execution_count": null,
   "id": "522f8fef",
   "metadata": {},
   "outputs": [],
   "source": [
    "sneakers_brand1 = []\n",
    "\n",
    "for i in brand_tag2:\n",
    "    sneakers_brand1.append(i.text)\n",
    "    \n",
    "len(sneakers_brand1)\n",
    "sneakers_brand1[0:2]"
   ]
  },
  {
   "cell_type": "code",
   "execution_count": null,
   "id": "6284dd21",
   "metadata": {},
   "outputs": [],
   "source": [
    "des_tag2 = driver.find_elements_by_xpath('//div[@class=\"_2WkVRV\"]')\n",
    "len(des_tag2)\n",
    "des_tag2[0:2]"
   ]
  },
  {
   "cell_type": "code",
   "execution_count": null,
   "id": "75b63984",
   "metadata": {},
   "outputs": [],
   "source": [
    "product_description1 = []\n",
    "\n",
    "for i in des_tag2:\n",
    "    product_description1.append(i.text)\n",
    "    \n",
    "len(product_description1)\n",
    "product_description1[0:2]"
   ]
  },
  {
   "cell_type": "code",
   "execution_count": null,
   "id": "8a97e58d",
   "metadata": {},
   "outputs": [],
   "source": [
    "price_tag2 = driver.find_elements_by_xpath('//div[@class=\"_30jeq3\"]')\n",
    "len(price_tag2)\n",
    "price_tag2[0:2]"
   ]
  },
  {
   "cell_type": "code",
   "execution_count": null,
   "id": "cef43755",
   "metadata": {},
   "outputs": [],
   "source": [
    "price1 = []\n",
    "\n",
    "for i in price_tag2:\n",
    "    price1.append(i.text)\n",
    "    \n",
    "len(price1)\n",
    "price1[0:2]"
   ]
  },
  {
   "cell_type": "code",
   "execution_count": null,
   "id": "0dd036b5",
   "metadata": {},
   "outputs": [],
   "source": [
    "len(sneakers_brand), len(product_description), len(price)"
   ]
  },
  {
   "cell_type": "code",
   "execution_count": null,
   "id": "b6b6ce23",
   "metadata": {},
   "outputs": [],
   "source": [
    "sneakers1 = pd.DataFrame()\n",
    "sneakers1['Brand Name'] = sneakers_brand\n",
    "sneakers1['Product Description'] = product_description\n",
    "sneakers1['Price'] = price\n",
    "\n",
    "sneakers1"
   ]
  },
  {
   "cell_type": "code",
   "execution_count": null,
   "id": "5b77edcf",
   "metadata": {},
   "outputs": [],
   "source": [
    "sneakers2 = pd.DataFrame()\n",
    "sneakers2['Brand Name'] = sneakers_brand1\n",
    "sneakers2['Product Description'] = product_description1\n",
    "sneakers2['Price'] = price1\n",
    "\n",
    "sneakers2"
   ]
  },
  {
   "cell_type": "code",
   "execution_count": null,
   "id": "cf3e4bc5",
   "metadata": {},
   "outputs": [],
   "source": [
    "sneakers_list = pd.concat([sneakers1, sneakers2], join = 'inner')\n",
    "sneakers_list"
   ]
  },
  {
   "cell_type": "markdown",
   "id": "0e419154",
   "metadata": {},
   "source": [
    "# Q7: Scraping Shoe data from https://www.myntra.com/shoes"
   ]
  },
  {
   "cell_type": "code",
   "execution_count": null,
   "id": "dbf56f31",
   "metadata": {},
   "outputs": [],
   "source": [
    "driver = webdriver.Edge(r'C:/Users/humay/OneDrive/Desktop/Data Science/msedgedriver.exe')"
   ]
  },
  {
   "cell_type": "code",
   "execution_count": null,
   "id": "32dbad2b",
   "metadata": {},
   "outputs": [],
   "source": [
    "url4 = 'https://www.myntra.com/shoes'\n",
    "driver.get(url4)"
   ]
  },
  {
   "cell_type": "code",
   "execution_count": null,
   "id": "8fbc2a1a",
   "metadata": {},
   "outputs": [],
   "source": [
    "search_shoes = driver.find_element_by_class_name(\"desktop-searchBar\")\n",
    "search_shoes"
   ]
  },
  {
   "cell_type": "code",
   "execution_count": null,
   "id": "bb5eb92e",
   "metadata": {},
   "outputs": [],
   "source": [
    "search_shoes.send_keys(\"shoes\")\n",
    "search_shoes"
   ]
  },
  {
   "cell_type": "code",
   "execution_count": null,
   "id": "5ee698a2",
   "metadata": {},
   "outputs": [],
   "source": [
    "search_btn = driver.find_element_by_class_name(\"desktop-submit\")\n",
    "search_btn"
   ]
  },
  {
   "cell_type": "code",
   "execution_count": null,
   "id": "90d67435",
   "metadata": {},
   "outputs": [],
   "source": [
    "search_btn.click()"
   ]
  },
  {
   "cell_type": "code",
   "execution_count": null,
   "id": "fd38d616",
   "metadata": {},
   "outputs": [],
   "source": [
    "price_check = driver.find_element_by_xpath(\"/html/body/div[2]/div/div[1]/main/div[3]/div[1]/section/div/div[5]/ul/li[2]/label/div\")\n",
    "price_check"
   ]
  },
  {
   "cell_type": "code",
   "execution_count": null,
   "id": "8079bb94",
   "metadata": {},
   "outputs": [],
   "source": [
    "price_check.click()"
   ]
  },
  {
   "cell_type": "code",
   "execution_count": null,
   "id": "e1aca7b3",
   "metadata": {},
   "outputs": [],
   "source": [
    "color_check = driver.find_element_by_xpath(\"/html/body/div[2]/div/div[1]/main/div[3]/div[1]/section/div/div[6]/ul/li[1]/label/div\")\n",
    "color_check"
   ]
  },
  {
   "cell_type": "code",
   "execution_count": null,
   "id": "406dec4a",
   "metadata": {},
   "outputs": [],
   "source": [
    "color_check.click()"
   ]
  },
  {
   "cell_type": "code",
   "execution_count": null,
   "id": "4fdd9c64",
   "metadata": {},
   "outputs": [],
   "source": [
    "brand_tag1 = driver.find_elements_by_xpath('//h3[@class=\"product-brand\"]')\n",
    "len(brand_tag1)\n",
    "brand_tag1[0:2]"
   ]
  },
  {
   "cell_type": "code",
   "execution_count": null,
   "id": "be83db5a",
   "metadata": {},
   "outputs": [],
   "source": [
    "shoes_brand = []\n",
    "\n",
    "for i in brand_tag1:\n",
    "    shoes_brand.append(i.text)\n",
    "    \n",
    "len(shoes_brand)\n",
    "shoes_brand[0:2]"
   ]
  },
  {
   "cell_type": "code",
   "execution_count": null,
   "id": "255e6954",
   "metadata": {},
   "outputs": [],
   "source": [
    "len(shoes_brand)"
   ]
  },
  {
   "cell_type": "code",
   "execution_count": null,
   "id": "96f96dd1",
   "metadata": {},
   "outputs": [],
   "source": [
    "des_tag1 = driver.find_elements_by_xpath('//h4[@class=\"product-product\"]')\n",
    "len(des_tag1)\n",
    "des_tag1[0:2]"
   ]
  },
  {
   "cell_type": "code",
   "execution_count": null,
   "id": "3e331020",
   "metadata": {},
   "outputs": [],
   "source": [
    "shoes_des = []\n",
    "\n",
    "for i in des_tag1:\n",
    "    shoes_des.append(i.text)\n",
    "    \n",
    "len(shoes_des)\n",
    "shoes_des[0:2]"
   ]
  },
  {
   "cell_type": "code",
   "execution_count": null,
   "id": "ce74b6eb",
   "metadata": {},
   "outputs": [],
   "source": [
    "price_tag1 = driver.find_elements_by_xpath('//div[@class=\"product-price\"]')\n",
    "len(price_tag1)\n",
    "price_tag1[0:2]"
   ]
  },
  {
   "cell_type": "code",
   "execution_count": null,
   "id": "a2e00669",
   "metadata": {},
   "outputs": [],
   "source": [
    "shoes_price = []\n",
    "\n",
    "for i in price_tag1:\n",
    "    shoes_price.append(i.text)\n",
    "    \n",
    "len(shoes_price)\n",
    "shoes_price[0:2]"
   ]
  },
  {
   "cell_type": "code",
   "execution_count": null,
   "id": "8e328a25",
   "metadata": {},
   "outputs": [],
   "source": [
    "next_page = driver.find_element_by_xpath(\"/html/body/div[2]/div/div[1]/main/div[3]/div[2]/div/div[2]/section/div[2]/ul/li[3]\")\n",
    "next_page"
   ]
  },
  {
   "cell_type": "code",
   "execution_count": null,
   "id": "d58a0770",
   "metadata": {},
   "outputs": [],
   "source": [
    "next_page.click()"
   ]
  },
  {
   "cell_type": "code",
   "execution_count": null,
   "id": "1afb0cf7",
   "metadata": {},
   "outputs": [],
   "source": [
    "brand_tag2 = driver.find_elements_by_xpath('//h3[@class=\"product-brand\"]')\n",
    "len(brand_tag2)\n",
    "brand_tag2[0:2]"
   ]
  },
  {
   "cell_type": "code",
   "execution_count": null,
   "id": "59a701f6",
   "metadata": {},
   "outputs": [],
   "source": [
    "shoes_brand1 = []\n",
    "\n",
    "for i in brand_tag2:\n",
    "    shoes_brand1.append(i.text)\n",
    "    \n",
    "len(shoes_brand1)\n",
    "shoes_brand1[0:2]"
   ]
  },
  {
   "cell_type": "code",
   "execution_count": null,
   "id": "a8656988",
   "metadata": {},
   "outputs": [],
   "source": [
    "des_tag2 = driver.find_elements_by_xpath('//h4[@class=\"product-product\"]')\n",
    "len(des_tag2)\n",
    "des_tag2[0:2]"
   ]
  },
  {
   "cell_type": "code",
   "execution_count": null,
   "id": "e6f5c023",
   "metadata": {},
   "outputs": [],
   "source": [
    "shoes_des1 = []\n",
    "\n",
    "for i in des_tag2:\n",
    "    shoes_des1.append(i.text)\n",
    "    \n",
    "len(shoes_des1)\n",
    "shoes_des1[0:2]"
   ]
  },
  {
   "cell_type": "code",
   "execution_count": null,
   "id": "802bfb93",
   "metadata": {},
   "outputs": [],
   "source": [
    "price_tag2 = driver.find_elements_by_xpath('//div[@class=\"product-price\"]')\n",
    "len(price_tag2)\n",
    "price_tag2[0:2]"
   ]
  },
  {
   "cell_type": "code",
   "execution_count": null,
   "id": "674dcd02",
   "metadata": {},
   "outputs": [],
   "source": [
    "shoes_price1 = []\n",
    "\n",
    "for i in price_tag2:\n",
    "    shoes_price1.append(i.text)\n",
    "    \n",
    "len(shoes_price1)\n",
    "shoes_price1[0:2]"
   ]
  },
  {
   "cell_type": "code",
   "execution_count": null,
   "id": "b665a1bd",
   "metadata": {},
   "outputs": [],
   "source": [
    "shoes1 = pd.DataFrame()\n",
    "shoes1['Brand Name'] = shoes_brand\n",
    "shoes1['Product Description'] = shoes_des\n",
    "shoes1['Price'] = shoes_price\n",
    "\n",
    "shoes1"
   ]
  },
  {
   "cell_type": "code",
   "execution_count": null,
   "id": "78d0ed7b",
   "metadata": {},
   "outputs": [],
   "source": [
    "shoes2 = pd.DataFrame()\n",
    "shoes2['Brand Name'] = shoes_brand1\n",
    "shoes2['Product Description'] = shoes_des1\n",
    "shoes2['Price'] = shoes_price1\n",
    "\n",
    "shoes2"
   ]
  },
  {
   "cell_type": "code",
   "execution_count": null,
   "id": "0e13abc7",
   "metadata": {},
   "outputs": [],
   "source": [
    "shoes_list = pd.concat([shoes1, shoes2], join = 'inner')\n",
    "shoes_list"
   ]
  },
  {
   "cell_type": "markdown",
   "id": "f9f303dc",
   "metadata": {},
   "source": [
    "# Q8: Scrapping Laptop from https://www.amazon.in/"
   ]
  },
  {
   "cell_type": "code",
   "execution_count": 281,
   "id": "b3424a92",
   "metadata": {},
   "outputs": [],
   "source": [
    "driver = webdriver.Edge(r'C:/Users/humay/OneDrive/Desktop/Data Science/msedgedriver.exe')"
   ]
  },
  {
   "cell_type": "code",
   "execution_count": 282,
   "id": "9683f32c",
   "metadata": {},
   "outputs": [],
   "source": [
    "url5 = 'https://www.amazon.in'\n",
    "driver.get(url5)"
   ]
  },
  {
   "cell_type": "code",
   "execution_count": 283,
   "id": "4865f961",
   "metadata": {},
   "outputs": [
    {
     "data": {
      "text/plain": [
       "<selenium.webdriver.remote.webelement.WebElement (session=\"371c25e157c3615e06cd3770efb419e6\", element=\"4408aa22-eaa3-4503-8ddd-f2e93fa9978b\")>"
      ]
     },
     "execution_count": 283,
     "metadata": {},
     "output_type": "execute_result"
    }
   ],
   "source": [
    "search_laptop = driver.find_element_by_xpath(\"/html/body/div[1]/header/div/div[1]/div[2]/div/form/div[2]/div[1]/input\")\n",
    "search_laptop"
   ]
  },
  {
   "cell_type": "code",
   "execution_count": 284,
   "id": "5a80e672",
   "metadata": {},
   "outputs": [
    {
     "data": {
      "text/plain": [
       "<selenium.webdriver.remote.webelement.WebElement (session=\"371c25e157c3615e06cd3770efb419e6\", element=\"4408aa22-eaa3-4503-8ddd-f2e93fa9978b\")>"
      ]
     },
     "execution_count": 284,
     "metadata": {},
     "output_type": "execute_result"
    }
   ],
   "source": [
    "search_laptop.send_keys(\"Laptop\")\n",
    "search_laptop"
   ]
  },
  {
   "cell_type": "code",
   "execution_count": 285,
   "id": "fb8e62f1",
   "metadata": {},
   "outputs": [
    {
     "data": {
      "text/plain": [
       "<selenium.webdriver.remote.webelement.WebElement (session=\"371c25e157c3615e06cd3770efb419e6\", element=\"037d6dc1-07d7-464d-848d-ecbb20b2443e\")>"
      ]
     },
     "execution_count": 285,
     "metadata": {},
     "output_type": "execute_result"
    }
   ],
   "source": [
    "search_btn = driver.find_element_by_xpath(\"/html/body/div[1]/header/div/div[1]/div[2]/div/form/div[3]/div/span/input\")\n",
    "search_btn"
   ]
  },
  {
   "cell_type": "code",
   "execution_count": 286,
   "id": "55019db1",
   "metadata": {},
   "outputs": [],
   "source": [
    "search_btn.click()"
   ]
  },
  {
   "cell_type": "code",
   "execution_count": 289,
   "id": "6330a050",
   "metadata": {},
   "outputs": [
    {
     "data": {
      "text/plain": [
       "<selenium.webdriver.remote.webelement.WebElement (session=\"371c25e157c3615e06cd3770efb419e6\", element=\"2eed4a10-8e95-4aca-b5af-ba51218ad92d\")>"
      ]
     },
     "execution_count": 289,
     "metadata": {},
     "output_type": "execute_result"
    }
   ],
   "source": [
    "check_i7 = driver.find_element_by_xpath(\"/html/body/div[1]/div[2]/div[1]/div[2]/div/div[3]/span/div[1]/div/div/div[5]/ul[4]/li[11]/span/a/div/label/i\")\n",
    "check_i7"
   ]
  },
  {
   "cell_type": "code",
   "execution_count": 290,
   "id": "1f9a1a22",
   "metadata": {},
   "outputs": [],
   "source": [
    "check_i7.click()"
   ]
  },
  {
   "cell_type": "code",
   "execution_count": 291,
   "id": "4bb5310b",
   "metadata": {},
   "outputs": [
    {
     "data": {
      "text/plain": [
       "[<selenium.webdriver.remote.webelement.WebElement (session=\"371c25e157c3615e06cd3770efb419e6\", element=\"085b56d7-4271-4c11-a464-a7352f490c15\")>,\n",
       " <selenium.webdriver.remote.webelement.WebElement (session=\"371c25e157c3615e06cd3770efb419e6\", element=\"6a0b8295-6ca5-46a8-81fc-7208698f94c4\")>]"
      ]
     },
     "execution_count": 291,
     "metadata": {},
     "output_type": "execute_result"
    }
   ],
   "source": [
    "title_tag = driver.find_elements_by_xpath('//h2[@class=\"a-size-mini a-spacing-none a-color-base s-line-clamp-2\"]')\n",
    "len(title_tag)\n",
    "title_tag[0:2]"
   ]
  },
  {
   "cell_type": "code",
   "execution_count": 292,
   "id": "6d80e54a",
   "metadata": {},
   "outputs": [
    {
     "data": {
      "text/plain": [
       "['Fujitsu UH-X 11th Gen Intel Core i7 13.3” FHD IPS 400Nits Thin & Light Laptop(16GB/512GB SSD/Windows 11/Office 2021/Iris Xe Graphics/Backlit Kb/Fingerprint Reader/2Yr Warranty/Black/878gms),4ZR1F38024',\n",
       " 'LG Gram Intel Evo 11th Gen Core i7 17 inches Ultra-Light Laptop (16 GB RAM, 512 GB SSD, New Windows 11 Home Preload, Iris Xe Graphics, USC -C x 2 (with Power), 1.35 kg, 17Z90P-G.AH85A2, Black)']"
      ]
     },
     "execution_count": 292,
     "metadata": {},
     "output_type": "execute_result"
    }
   ],
   "source": [
    "titles = []\n",
    "\n",
    "for i in title_tag:\n",
    "    titles.append(i.text)\n",
    "    \n",
    "len(titles)\n",
    "titles[0:2]"
   ]
  },
  {
   "cell_type": "code",
   "execution_count": 293,
   "id": "9b14017d",
   "metadata": {},
   "outputs": [
    {
     "data": {
      "text/plain": [
       "30"
      ]
     },
     "execution_count": 293,
     "metadata": {},
     "output_type": "execute_result"
    }
   ],
   "source": [
    "len(titles)"
   ]
  },
  {
   "cell_type": "code",
   "execution_count": 318,
   "id": "a352adac",
   "metadata": {},
   "outputs": [
    {
     "data": {
      "text/plain": [
       "[<selenium.webdriver.remote.webelement.WebElement (session=\"371c25e157c3615e06cd3770efb419e6\", element=\"1ba0df46-84f1-4c25-83aa-3467fe751f45\")>,\n",
       " <selenium.webdriver.remote.webelement.WebElement (session=\"371c25e157c3615e06cd3770efb419e6\", element=\"8531ab2d-d043-4bba-8291-e663ad9e1f7f\")>]"
      ]
     },
     "execution_count": 318,
     "metadata": {},
     "output_type": "execute_result"
    }
   ],
   "source": [
    "rating_tag = driver.find_elements_by_xpath('//i[@class=\"a-icon a-icon-star-small a-star-small-4-5 aok-align-bottom\"]')\n",
    "len(rating_tag)\n",
    "rating_tag[0:2]"
   ]
  },
  {
   "cell_type": "code",
   "execution_count": 319,
   "id": "27dde1e9",
   "metadata": {},
   "outputs": [
    {
     "data": {
      "text/plain": [
       "['', '']"
      ]
     },
     "execution_count": 319,
     "metadata": {},
     "output_type": "execute_result"
    }
   ],
   "source": [
    "ratings = []\n",
    "\n",
    "for i in rating_tag:\n",
    "    ratings.append(i.text)\n",
    "    \n",
    "len(ratings)\n",
    "ratings[0:2]"
   ]
  },
  {
   "cell_type": "code",
   "execution_count": 320,
   "id": "ce395e05",
   "metadata": {},
   "outputs": [
    {
     "data": {
      "text/plain": [
       "[<selenium.webdriver.remote.webelement.WebElement (session=\"371c25e157c3615e06cd3770efb419e6\", element=\"1ba0df46-84f1-4c25-83aa-3467fe751f45\")>,\n",
       " <selenium.webdriver.remote.webelement.WebElement (session=\"371c25e157c3615e06cd3770efb419e6\", element=\"8531ab2d-d043-4bba-8291-e663ad9e1f7f\")>]"
      ]
     },
     "execution_count": 320,
     "metadata": {},
     "output_type": "execute_result"
    }
   ],
   "source": [
    "price_tag = driver.find_elements_by_xpath('//span[@class=\"a-price-whole\"]')\n",
    "len(rating_tag)\n",
    "rating_tag[0:2]"
   ]
  },
  {
   "cell_type": "code",
   "execution_count": 321,
   "id": "80c0566c",
   "metadata": {},
   "outputs": [
    {
     "data": {
      "text/plain": [
       "['83,990', '96,999']"
      ]
     },
     "execution_count": 321,
     "metadata": {},
     "output_type": "execute_result"
    }
   ],
   "source": [
    "price = []\n",
    "\n",
    "for i in price_tag:\n",
    "    price.append(i.text)\n",
    "    \n",
    "len(price)\n",
    "price[0:2]"
   ]
  },
  {
   "cell_type": "code",
   "execution_count": 325,
   "id": "d3f2b2c4",
   "metadata": {},
   "outputs": [
    {
     "data": {
      "text/html": [
       "<div>\n",
       "<style scoped>\n",
       "    .dataframe tbody tr th:only-of-type {\n",
       "        vertical-align: middle;\n",
       "    }\n",
       "\n",
       "    .dataframe tbody tr th {\n",
       "        vertical-align: top;\n",
       "    }\n",
       "\n",
       "    .dataframe thead th {\n",
       "        text-align: right;\n",
       "    }\n",
       "</style>\n",
       "<table border=\"1\" class=\"dataframe\">\n",
       "  <thead>\n",
       "    <tr style=\"text-align: right;\">\n",
       "      <th></th>\n",
       "      <th>Title</th>\n",
       "      <th>Price</th>\n",
       "    </tr>\n",
       "  </thead>\n",
       "  <tbody>\n",
       "    <tr>\n",
       "      <th>0</th>\n",
       "      <td>Fujitsu UH-X 11th Gen Intel Core i7 13.3” FHD ...</td>\n",
       "      <td>83,990</td>\n",
       "    </tr>\n",
       "    <tr>\n",
       "      <th>1</th>\n",
       "      <td>LG Gram Intel Evo 11th Gen Core i7 17 inches U...</td>\n",
       "      <td>96,999</td>\n",
       "    </tr>\n",
       "    <tr>\n",
       "      <th>2</th>\n",
       "      <td>ASUS VivoBook 14 (2021), 14-inch (35.56 cms) F...</td>\n",
       "      <td>57,490</td>\n",
       "    </tr>\n",
       "    <tr>\n",
       "      <th>3</th>\n",
       "      <td>Mi Notebook Ultra 3.2K Resolution Display Inte...</td>\n",
       "      <td>77,499</td>\n",
       "    </tr>\n",
       "    <tr>\n",
       "      <th>4</th>\n",
       "      <td>ASUS TUF Gaming F15 (2021), 15.6\" (39.62 cms) ...</td>\n",
       "      <td>89,990</td>\n",
       "    </tr>\n",
       "    <tr>\n",
       "      <th>5</th>\n",
       "      <td>Lenovo IdeaPad Flex 5 11th Gen Intel Core i7 1...</td>\n",
       "      <td>85,790</td>\n",
       "    </tr>\n",
       "    <tr>\n",
       "      <th>6</th>\n",
       "      <td>Microsoft Surface Studio 14.4 inches Touchscre...</td>\n",
       "      <td>3,73,999</td>\n",
       "    </tr>\n",
       "    <tr>\n",
       "      <th>7</th>\n",
       "      <td>(Renewed) Acer Nitro 5 11th Gen Intel Core i5-...</td>\n",
       "      <td>62,990</td>\n",
       "    </tr>\n",
       "    <tr>\n",
       "      <th>8</th>\n",
       "      <td>Lenovo ThinkBook 15 Intel 11th Gen Core i7 15....</td>\n",
       "      <td>90,990</td>\n",
       "    </tr>\n",
       "    <tr>\n",
       "      <th>9</th>\n",
       "      <td>LG Gram 16 inches Intel Evo 11th Gen Core i7 U...</td>\n",
       "      <td>89,999</td>\n",
       "    </tr>\n",
       "  </tbody>\n",
       "</table>\n",
       "</div>"
      ],
      "text/plain": [
       "                                               Title     Price\n",
       "0  Fujitsu UH-X 11th Gen Intel Core i7 13.3” FHD ...    83,990\n",
       "1  LG Gram Intel Evo 11th Gen Core i7 17 inches U...    96,999\n",
       "2  ASUS VivoBook 14 (2021), 14-inch (35.56 cms) F...    57,490\n",
       "3  Mi Notebook Ultra 3.2K Resolution Display Inte...    77,499\n",
       "4  ASUS TUF Gaming F15 (2021), 15.6\" (39.62 cms) ...    89,990\n",
       "5  Lenovo IdeaPad Flex 5 11th Gen Intel Core i7 1...    85,790\n",
       "6  Microsoft Surface Studio 14.4 inches Touchscre...  3,73,999\n",
       "7  (Renewed) Acer Nitro 5 11th Gen Intel Core i5-...    62,990\n",
       "8  Lenovo ThinkBook 15 Intel 11th Gen Core i7 15....    90,990\n",
       "9  LG Gram 16 inches Intel Evo 11th Gen Core i7 U...    89,999"
      ]
     },
     "execution_count": 325,
     "metadata": {},
     "output_type": "execute_result"
    }
   ],
   "source": [
    "Laptop_list = pd.DataFrame()\n",
    "Laptop_list['Title'] = titles\n",
    "Laptop_list['Price'] = price\n",
    "\n",
    "Laptop_list[0:10]"
   ]
  },
  {
   "cell_type": "markdown",
   "id": "5bf0458a",
   "metadata": {},
   "source": [
    "# Q:9 & 10: python program to scrape data for first 10 job results for Data Scientist from https://www.ambitionbox.com"
   ]
  },
  {
   "cell_type": "code",
   "execution_count": 326,
   "id": "6b3c6d1c",
   "metadata": {},
   "outputs": [],
   "source": [
    "driver = webdriver.Edge(r'C:/Users/humay/OneDrive/Desktop/Data Science/msedgedriver.exe')"
   ]
  },
  {
   "cell_type": "code",
   "execution_count": 327,
   "id": "5d5cf826",
   "metadata": {},
   "outputs": [],
   "source": [
    "url6 = 'https://www.ambitionbox.com'\n",
    "driver.get(url6)"
   ]
  },
  {
   "cell_type": "code",
   "execution_count": 334,
   "id": "f0e66674",
   "metadata": {},
   "outputs": [
    {
     "data": {
      "text/plain": [
       "<selenium.webdriver.remote.webelement.WebElement (session=\"213c7236ea9113e3f88da25845d01ea9\", element=\"026c1ed4-7c78-4bb9-8cac-89b8b65655b9\")>"
      ]
     },
     "execution_count": 334,
     "metadata": {},
     "output_type": "execute_result"
    }
   ],
   "source": [
    "job_link = driver.find_element_by_xpath(\"/html/body/div[1]/nav/nav/a[6]\")\n",
    "job_link"
   ]
  },
  {
   "cell_type": "code",
   "execution_count": 335,
   "id": "93f12253",
   "metadata": {},
   "outputs": [],
   "source": [
    "job_link.click()"
   ]
  },
  {
   "cell_type": "code",
   "execution_count": 336,
   "id": "bf5c0a23",
   "metadata": {},
   "outputs": [
    {
     "data": {
      "text/plain": [
       "<selenium.webdriver.remote.webelement.WebElement (session=\"213c7236ea9113e3f88da25845d01ea9\", element=\"f755b9cb-8cb8-4cd7-acaa-a8fae9377df6\")>"
      ]
     },
     "execution_count": 336,
     "metadata": {},
     "output_type": "execute_result"
    }
   ],
   "source": [
    "search_job = driver.find_element_by_xpath(\"/html/body/div/div/div/div[2]/div[1]/div/div/div/div/span/input\")\n",
    "search_job"
   ]
  },
  {
   "cell_type": "code",
   "execution_count": 337,
   "id": "920dd06b",
   "metadata": {},
   "outputs": [],
   "source": [
    "search_job.send_keys(\"Data Scientist\")"
   ]
  },
  {
   "cell_type": "code",
   "execution_count": 338,
   "id": "3ce6f972",
   "metadata": {},
   "outputs": [
    {
     "data": {
      "text/plain": [
       "<selenium.webdriver.remote.webelement.WebElement (session=\"213c7236ea9113e3f88da25845d01ea9\", element=\"91d436c3-83e5-4fb3-a0f0-d98be033b235\")>"
      ]
     },
     "execution_count": 338,
     "metadata": {},
     "output_type": "execute_result"
    }
   ],
   "source": [
    "search_btn = driver.find_element_by_xpath(\"/html/body/div/div/div/div[2]/div[1]/div/div/div/button\")\n",
    "search_btn"
   ]
  },
  {
   "cell_type": "code",
   "execution_count": 339,
   "id": "8b95c208",
   "metadata": {},
   "outputs": [],
   "source": [
    "search_btn.click()"
   ]
  },
  {
   "cell_type": "code",
   "execution_count": 340,
   "id": "ca6d01ce",
   "metadata": {},
   "outputs": [
    {
     "data": {
      "text/plain": [
       "<selenium.webdriver.remote.webelement.WebElement (session=\"213c7236ea9113e3f88da25845d01ea9\", element=\"e72d945b-dd13-41ee-bdc5-d1ef5844784b\")>"
      ]
     },
     "execution_count": 340,
     "metadata": {},
     "output_type": "execute_result"
    }
   ],
   "source": [
    "location_check = driver.find_element_by_xpath(\"/html/body/div/div/div/div[2]/div[2]/div[1]/div/div/div/div[2]/div[2]/div/div[3]/div[1]/div[5]/div/label\")\n",
    "location_check"
   ]
  },
  {
   "cell_type": "code",
   "execution_count": 341,
   "id": "0d0503f2",
   "metadata": {},
   "outputs": [],
   "source": [
    "location_check.click()"
   ]
  },
  {
   "cell_type": "code",
   "execution_count": 342,
   "id": "9c7f3b20",
   "metadata": {},
   "outputs": [
    {
     "data": {
      "text/plain": [
       "[<selenium.webdriver.remote.webelement.WebElement (session=\"213c7236ea9113e3f88da25845d01ea9\", element=\"6cd11689-fff3-4214-b0ba-a705122b0460\")>,\n",
       " <selenium.webdriver.remote.webelement.WebElement (session=\"213c7236ea9113e3f88da25845d01ea9\", element=\"19507330-a6c3-45ba-a2e2-2cb9c66fa6b6\")>]"
      ]
     },
     "execution_count": 342,
     "metadata": {},
     "output_type": "execute_result"
    }
   ],
   "source": [
    "title_tag = driver.find_elements_by_xpath('//a[@class=\"title noclick\"]')\n",
    "len(title_tag)\n",
    "title_tag[0:2]"
   ]
  },
  {
   "cell_type": "code",
   "execution_count": 355,
   "id": "2907a878",
   "metadata": {},
   "outputs": [
    {
     "data": {
      "text/plain": [
       "['Excellent Opportunity For Freshers For AI/ML, Data Scientist, BI, QA',\n",
       " \"HCL Hiring Data Scientist (Loc: Noida / Chennai / B'lore)\",\n",
       " 'Data Scientist',\n",
       " 'Data Scientist-II',\n",
       " 'HCL Tech Opening - Senior Data Scientist']"
      ]
     },
     "execution_count": 355,
     "metadata": {},
     "output_type": "execute_result"
    }
   ],
   "source": [
    "title = []\n",
    "\n",
    "for i in title_tag:\n",
    "    title.append(i.text)\n",
    "    \n",
    "len(title)\n",
    "title[0:5]"
   ]
  },
  {
   "cell_type": "code",
   "execution_count": 356,
   "id": "7f9a9c4b",
   "metadata": {},
   "outputs": [
    {
     "data": {
      "text/plain": [
       "['Excellent Opportunity For Freshers For AI/ML, Data Scientist, BI, QA',\n",
       " \"HCL Hiring Data Scientist (Loc: Noida / Chennai / B'lore)\",\n",
       " 'Data Scientist',\n",
       " 'Data Scientist-II',\n",
       " 'HCL Tech Opening - Senior Data Scientist',\n",
       " 'Data Scientist',\n",
       " 'Urgent Requirement || Data Scientist || Noida',\n",
       " 'Data Scientist with NLP & Python',\n",
       " 'Data Scientist',\n",
       " 'Opportunity | Tavant India']"
      ]
     },
     "execution_count": 356,
     "metadata": {},
     "output_type": "execute_result"
    }
   ],
   "source": [
    "title1 = title[0:10]\n",
    "title1"
   ]
  },
  {
   "cell_type": "code",
   "execution_count": 344,
   "id": "8ec560be",
   "metadata": {},
   "outputs": [
    {
     "data": {
      "text/plain": [
       "[<selenium.webdriver.remote.webelement.WebElement (session=\"213c7236ea9113e3f88da25845d01ea9\", element=\"a54d7579-d2d2-4b35-aa68-39970b6178fd\")>,\n",
       " <selenium.webdriver.remote.webelement.WebElement (session=\"213c7236ea9113e3f88da25845d01ea9\", element=\"43c5cb3d-64ca-4e12-b7f6-213380d9fc49\")>]"
      ]
     },
     "execution_count": 344,
     "metadata": {},
     "output_type": "execute_result"
    }
   ],
   "source": [
    "company_tag = driver.find_elements_by_xpath('//p[@class=\"company body-medium\"]')\n",
    "len(company_tag)\n",
    "company_tag[0:2]"
   ]
  },
  {
   "cell_type": "code",
   "execution_count": 345,
   "id": "ae255e9a",
   "metadata": {},
   "outputs": [
    {
     "data": {
      "text/plain": [
       "['NTT DATA GLOBAL DELIVERY SERVICES PRIVATE LIMITED',\n",
       " 'HCL Technologies Limited']"
      ]
     },
     "execution_count": 345,
     "metadata": {},
     "output_type": "execute_result"
    }
   ],
   "source": [
    "company = []\n",
    "\n",
    "for i in company_tag:\n",
    "    company.append(i.text)\n",
    "    \n",
    "len(company)\n",
    "company[0:2]"
   ]
  },
  {
   "cell_type": "code",
   "execution_count": 346,
   "id": "4ef55a6d",
   "metadata": {},
   "outputs": [
    {
     "data": {
      "text/plain": [
       "[<selenium.webdriver.remote.webelement.WebElement (session=\"213c7236ea9113e3f88da25845d01ea9\", element=\"8cc23e5f-8c09-4d37-b4c3-ca726debfa19\")>,\n",
       " <selenium.webdriver.remote.webelement.WebElement (session=\"213c7236ea9113e3f88da25845d01ea9\", element=\"8d6cb19f-a8ba-46f8-85a7-59b3e3320821\")>]"
      ]
     },
     "execution_count": 346,
     "metadata": {},
     "output_type": "execute_result"
    }
   ],
   "source": [
    "rating_tag = driver.find_elements_by_xpath('//span[@class=\"body-small\"]')\n",
    "len(rating_tag)\n",
    "rating_tag[0:2]"
   ]
  },
  {
   "cell_type": "code",
   "execution_count": 347,
   "id": "d2fadbec",
   "metadata": {},
   "outputs": [
    {
     "data": {
      "text/plain": [
       "['3.9', '3.8']"
      ]
     },
     "execution_count": 347,
     "metadata": {},
     "output_type": "execute_result"
    }
   ],
   "source": [
    "rating = []\n",
    "\n",
    "for i in rating_tag:\n",
    "    rating.append(i.text)\n",
    "    \n",
    "len(rating)\n",
    "rating[0:2]"
   ]
  },
  {
   "cell_type": "code",
   "execution_count": 364,
   "id": "55bf449c",
   "metadata": {},
   "outputs": [
    {
     "data": {
      "text/plain": [
       "[<selenium.webdriver.remote.webelement.WebElement (session=\"213c7236ea9113e3f88da25845d01ea9\", element=\"790d1502-650e-45d0-902c-d5c11944976c\")>,\n",
       " <selenium.webdriver.remote.webelement.WebElement (session=\"213c7236ea9113e3f88da25845d01ea9\", element=\"6d102336-2e9f-44e8-a0f9-70df380d785e\")>]"
      ]
     },
     "execution_count": 364,
     "metadata": {},
     "output_type": "execute_result"
    }
   ],
   "source": [
    "salary_tag = driver.find_elements_by_xpath('//p[@class=\"body-small-l\"]')\n",
    "len(salary_tag)\n",
    "salary_tag[0:2]"
   ]
  },
  {
   "cell_type": "code",
   "execution_count": 374,
   "id": "1ebf3288",
   "metadata": {},
   "outputs": [
    {
     "data": {
      "text/plain": [
       "['₹ 3.5-5 LPA',\n",
       " '',\n",
       " '₹ 3.5-5 LPA',\n",
       " 'Chennai, Pune, Delhi NCR +5 more',\n",
       " 'Data Science, Power Bi, RDBMS +6 more',\n",
       " '1-5 Yrs',\n",
       " 'Not Disclosed',\n",
       " 'Chennai, Bengaluru/Bangalore, Noida',\n",
       " 'C++, Database Management System, Artificial Intelligence +11 more',\n",
       " '3-8 Yrs',\n",
       " 'Not Disclosed',\n",
       " 'Bengaluru/Bangalore, Noida',\n",
       " 'deep learning, python, tensorflow +7 more',\n",
       " '4-7 Yrs',\n",
       " 'Not Disclosed',\n",
       " 'Noida',\n",
       " 'System design, Intellectual property, Product management +7 more',\n",
       " '6-11 Yrs',\n",
       " 'Not Disclosed',\n",
       " 'Chennai, Pune, Bengaluru/Bangalore +3 more',\n",
       " 'N-Grams, data science, POS tagging +3 more',\n",
       " '3-6 Yrs',\n",
       " '₹ 30-45 LPA',\n",
       " 'Noida',\n",
       " 'Data Science, Deep Learning',\n",
       " '3-8 Yrs',\n",
       " 'Not Disclosed',\n",
       " 'Delhi NCR, Noida',\n",
       " 'Machine Learning, Deep Learning, Python +1 more',\n",
       " '2-5 Yrs',\n",
       " 'Not Disclosed',\n",
       " 'Noida',\n",
       " 'deep learning, algorithms, python +5 more',\n",
       " '8-12 Yrs',\n",
       " 'Not Disclosed',\n",
       " 'Greater Noida, Noida',\n",
       " 'C++, SQL, Python +7 more',\n",
       " '4-9 Yrs',\n",
       " 'Not Disclosed',\n",
       " 'Bengaluru/Bangalore, Hyderabad/Secunderabad, Noida +1 more',\n",
       " 'data scientist, Machine Learning, Python']"
      ]
     },
     "execution_count": 374,
     "metadata": {},
     "output_type": "execute_result"
    }
   ],
   "source": [
    "salary = []\n",
    "\n",
    "for i in salary_tag:\n",
    "    salary.append(i.text.replace('Chennai, Pune, Delhi NCR + 5 more', ''))\n",
    "    \n",
    "len(salary)\n",
    "salary"
   ]
  },
  {
   "cell_type": "code",
   "execution_count": 375,
   "id": "3f655551",
   "metadata": {},
   "outputs": [
    {
     "data": {
      "text/plain": [
       "['₹ 3.5-5 LPA',\n",
       " '₹ 3.5-5 LPA',\n",
       " 'Data Science, Power Bi, RDBMS +6 more',\n",
       " 'Not Disclosed',\n",
       " 'C++, Database Management System, Artificial Intelligence +11 more',\n",
       " 'Not Disclosed',\n",
       " 'deep learning, python, tensorflow +7 more',\n",
       " 'Not Disclosed',\n",
       " 'System design, Intellectual property, Product management +7 more',\n",
       " 'Not Disclosed',\n",
       " 'N-Grams, data science, POS tagging +3 more',\n",
       " '₹ 30-45 LPA',\n",
       " 'Data Science, Deep Learning',\n",
       " 'Not Disclosed',\n",
       " 'Machine Learning, Deep Learning, Python +1 more',\n",
       " 'Not Disclosed',\n",
       " 'deep learning, algorithms, python +5 more',\n",
       " 'Not Disclosed',\n",
       " 'C++, SQL, Python +7 more',\n",
       " 'Not Disclosed',\n",
       " 'data scientist, Machine Learning, Python']"
      ]
     },
     "execution_count": 375,
     "metadata": {},
     "output_type": "execute_result"
    }
   ],
   "source": [
    "salary1 = salary[0::2]\n",
    "salary1"
   ]
  },
  {
   "cell_type": "code",
   "execution_count": 379,
   "id": "1881daaf",
   "metadata": {},
   "outputs": [
    {
     "data": {
      "text/plain": [
       "['₹ 3.5-5 LPA', '₹ 3.5-5 LPA']"
      ]
     },
     "execution_count": 379,
     "metadata": {},
     "output_type": "execute_result"
    }
   ],
   "source": [
    "salary2 = salary1[0:2]\n",
    "salary2"
   ]
  },
  {
   "cell_type": "code",
   "execution_count": 381,
   "id": "51c21658",
   "metadata": {},
   "outputs": [
    {
     "data": {
      "text/plain": [
       "['Not Disclosed',\n",
       " 'C++, Database Management System, Artificial Intelligence +11 more',\n",
       " 'Not Disclosed',\n",
       " 'deep learning, python, tensorflow +7 more',\n",
       " 'Not Disclosed',\n",
       " 'System design, Intellectual property, Product management +7 more',\n",
       " 'Not Disclosed',\n",
       " 'N-Grams, data science, POS tagging +3 more',\n",
       " '₹ 30-45 LPA',\n",
       " 'Data Science, Deep Learning',\n",
       " 'Not Disclosed',\n",
       " 'Machine Learning, Deep Learning, Python +1 more',\n",
       " 'Not Disclosed',\n",
       " 'deep learning, algorithms, python +5 more',\n",
       " 'Not Disclosed',\n",
       " 'C++, SQL, Python +7 more',\n",
       " 'Not Disclosed',\n",
       " 'data scientist, Machine Learning, Python']"
      ]
     },
     "execution_count": 381,
     "metadata": {},
     "output_type": "execute_result"
    }
   ],
   "source": [
    "salary3 = salary1[3:30]\n",
    "salary3"
   ]
  },
  {
   "cell_type": "code",
   "execution_count": 383,
   "id": "8b485716",
   "metadata": {},
   "outputs": [
    {
     "data": {
      "text/plain": [
       "['Not Disclosed',\n",
       " 'Not Disclosed',\n",
       " 'Not Disclosed',\n",
       " 'Not Disclosed',\n",
       " '₹ 30-45 LPA',\n",
       " 'Not Disclosed',\n",
       " 'Not Disclosed',\n",
       " 'Not Disclosed',\n",
       " 'Not Disclosed']"
      ]
     },
     "execution_count": 383,
     "metadata": {},
     "output_type": "execute_result"
    }
   ],
   "source": [
    "salary4 = salary3[0:19:2]\n",
    "salary4"
   ]
  },
  {
   "cell_type": "code",
   "execution_count": 385,
   "id": "b4e19aef",
   "metadata": {},
   "outputs": [
    {
     "data": {
      "text/plain": [
       "['₹ 3.5-5 LPA',\n",
       " '₹ 3.5-5 LPA',\n",
       " 'Not Disclosed',\n",
       " 'Not Disclosed',\n",
       " 'Not Disclosed',\n",
       " 'Not Disclosed',\n",
       " '₹ 30-45 LPA',\n",
       " 'Not Disclosed',\n",
       " 'Not Disclosed',\n",
       " 'Not Disclosed',\n",
       " 'Not Disclosed']"
      ]
     },
     "execution_count": 385,
     "metadata": {},
     "output_type": "execute_result"
    }
   ],
   "source": [
    "salary5 = salary2+salary4\n",
    "salary5"
   ]
  },
  {
   "cell_type": "code",
   "execution_count": 388,
   "id": "f7dca84f",
   "metadata": {},
   "outputs": [],
   "source": [
    "salary6 = salary5[0:10]"
   ]
  },
  {
   "cell_type": "code",
   "execution_count": 390,
   "id": "c37526ca",
   "metadata": {},
   "outputs": [
    {
     "data": {
      "text/plain": [
       "(10, 10, 10, 10)"
      ]
     },
     "execution_count": 390,
     "metadata": {},
     "output_type": "execute_result"
    }
   ],
   "source": [
    "len(titles[0:10]), len(company), len(rating), len(salary6)"
   ]
  },
  {
   "cell_type": "code",
   "execution_count": 392,
   "id": "798b722d",
   "metadata": {},
   "outputs": [
    {
     "data": {
      "text/plain": [
       "[<selenium.webdriver.remote.webelement.WebElement (session=\"213c7236ea9113e3f88da25845d01ea9\", element=\"62c34250-34b8-408a-a859-541c02c3b912\")>,\n",
       " <selenium.webdriver.remote.webelement.WebElement (session=\"213c7236ea9113e3f88da25845d01ea9\", element=\"50333692-37bd-49e9-9090-6d52945f6507\")>]"
      ]
     },
     "execution_count": 392,
     "metadata": {},
     "output_type": "execute_result"
    }
   ],
   "source": [
    "postDate_tag = driver.find_elements_by_xpath('//span[@class=\"body-small-l\"]')\n",
    "len(postDate_tag)\n",
    "postDate_tag[0:2]"
   ]
  },
  {
   "cell_type": "code",
   "execution_count": 393,
   "id": "c2c6321f",
   "metadata": {},
   "outputs": [
    {
     "data": {
      "text/plain": [
       "['11d ago', 'via naukri.com']"
      ]
     },
     "execution_count": 393,
     "metadata": {},
     "output_type": "execute_result"
    }
   ],
   "source": [
    "PostDate = []\n",
    "\n",
    "for i in postDate_tag:\n",
    "    PostDate.append(i.text)\n",
    "    \n",
    "len(PostDate)\n",
    "PostDate[0:2]"
   ]
  },
  {
   "cell_type": "code",
   "execution_count": 395,
   "id": "59ed85e0",
   "metadata": {},
   "outputs": [
    {
     "data": {
      "text/plain": [
       "20"
      ]
     },
     "execution_count": 395,
     "metadata": {},
     "output_type": "execute_result"
    }
   ],
   "source": [
    "len(PostDate)"
   ]
  },
  {
   "cell_type": "code",
   "execution_count": 397,
   "id": "4494b44a",
   "metadata": {},
   "outputs": [
    {
     "data": {
      "text/plain": [
       "['11d ago',\n",
       " '12d ago',\n",
       " '12d ago',\n",
       " '23d ago',\n",
       " '20d ago',\n",
       " '10d ago',\n",
       " '27d ago',\n",
       " '5d ago',\n",
       " '12d ago',\n",
       " '1mon ago']"
      ]
     },
     "execution_count": 397,
     "metadata": {},
     "output_type": "execute_result"
    }
   ],
   "source": [
    "PostDate1 = PostDate[0:20:2]\n",
    "PostDate1"
   ]
  },
  {
   "cell_type": "code",
   "execution_count": 398,
   "id": "979aef55",
   "metadata": {},
   "outputs": [
    {
     "data": {
      "text/html": [
       "<div>\n",
       "<style scoped>\n",
       "    .dataframe tbody tr th:only-of-type {\n",
       "        vertical-align: middle;\n",
       "    }\n",
       "\n",
       "    .dataframe tbody tr th {\n",
       "        vertical-align: top;\n",
       "    }\n",
       "\n",
       "    .dataframe thead th {\n",
       "        text-align: right;\n",
       "    }\n",
       "</style>\n",
       "<table border=\"1\" class=\"dataframe\">\n",
       "  <thead>\n",
       "    <tr style=\"text-align: right;\">\n",
       "      <th></th>\n",
       "      <th>Title</th>\n",
       "      <th>Company Name</th>\n",
       "      <th>Rating</th>\n",
       "      <th>Date Posted</th>\n",
       "      <th>Salary</th>\n",
       "    </tr>\n",
       "  </thead>\n",
       "  <tbody>\n",
       "    <tr>\n",
       "      <th>0</th>\n",
       "      <td>Fujitsu UH-X 11th Gen Intel Core i7 13.3” FHD ...</td>\n",
       "      <td>NTT DATA GLOBAL DELIVERY SERVICES PRIVATE LIMITED</td>\n",
       "      <td>3.9</td>\n",
       "      <td>11d ago</td>\n",
       "      <td>₹ 3.5-5 LPA</td>\n",
       "    </tr>\n",
       "    <tr>\n",
       "      <th>1</th>\n",
       "      <td>LG Gram Intel Evo 11th Gen Core i7 17 inches U...</td>\n",
       "      <td>HCL Technologies Limited</td>\n",
       "      <td>3.8</td>\n",
       "      <td>12d ago</td>\n",
       "      <td>₹ 3.5-5 LPA</td>\n",
       "    </tr>\n",
       "    <tr>\n",
       "      <th>2</th>\n",
       "      <td>ASUS VivoBook 14 (2021), 14-inch (35.56 cms) F...</td>\n",
       "      <td>WSP CONSULTANTS INDIA PRIVATE LIMITED</td>\n",
       "      <td>4.2</td>\n",
       "      <td>12d ago</td>\n",
       "      <td>Not Disclosed</td>\n",
       "    </tr>\n",
       "    <tr>\n",
       "      <th>3</th>\n",
       "      <td>Mi Notebook Ultra 3.2K Resolution Display Inte...</td>\n",
       "      <td>Microsoft India (R and D) Pvt Ltd</td>\n",
       "      <td>4.2</td>\n",
       "      <td>23d ago</td>\n",
       "      <td>Not Disclosed</td>\n",
       "    </tr>\n",
       "    <tr>\n",
       "      <th>4</th>\n",
       "      <td>ASUS TUF Gaming F15 (2021), 15.6\" (39.62 cms) ...</td>\n",
       "      <td>HCL Technologies Ltd</td>\n",
       "      <td>3.8</td>\n",
       "      <td>20d ago</td>\n",
       "      <td>Not Disclosed</td>\n",
       "    </tr>\n",
       "    <tr>\n",
       "      <th>5</th>\n",
       "      <td>Lenovo IdeaPad Flex 5 11th Gen Intel Core i7 1...</td>\n",
       "      <td>Jubilant Foodworks Limited</td>\n",
       "      <td>3.9</td>\n",
       "      <td>10d ago</td>\n",
       "      <td>Not Disclosed</td>\n",
       "    </tr>\n",
       "    <tr>\n",
       "      <th>6</th>\n",
       "      <td>Microsoft Surface Studio 14.4 inches Touchscre...</td>\n",
       "      <td>HCL Technologies</td>\n",
       "      <td>3.8</td>\n",
       "      <td>27d ago</td>\n",
       "      <td>₹ 30-45 LPA</td>\n",
       "    </tr>\n",
       "    <tr>\n",
       "      <th>7</th>\n",
       "      <td>(Renewed) Acer Nitro 5 11th Gen Intel Core i5-...</td>\n",
       "      <td>RATEGAIN TRAVEL TECHNOLOGIES LIMITED</td>\n",
       "      <td>3.7</td>\n",
       "      <td>5d ago</td>\n",
       "      <td>Not Disclosed</td>\n",
       "    </tr>\n",
       "    <tr>\n",
       "      <th>8</th>\n",
       "      <td>Lenovo ThinkBook 15 Intel 11th Gen Core i7 15....</td>\n",
       "      <td>Hanu Software Solutions Pvt Ltd</td>\n",
       "      <td>3.7</td>\n",
       "      <td>12d ago</td>\n",
       "      <td>Not Disclosed</td>\n",
       "    </tr>\n",
       "    <tr>\n",
       "      <th>9</th>\n",
       "      <td>LG Gram 16 inches Intel Evo 11th Gen Core i7 U...</td>\n",
       "      <td>Tavant Technologies India Pvt. Ltd.</td>\n",
       "      <td>4.0</td>\n",
       "      <td>1mon ago</td>\n",
       "      <td>Not Disclosed</td>\n",
       "    </tr>\n",
       "  </tbody>\n",
       "</table>\n",
       "</div>"
      ],
      "text/plain": [
       "                                               Title  \\\n",
       "0  Fujitsu UH-X 11th Gen Intel Core i7 13.3” FHD ...   \n",
       "1  LG Gram Intel Evo 11th Gen Core i7 17 inches U...   \n",
       "2  ASUS VivoBook 14 (2021), 14-inch (35.56 cms) F...   \n",
       "3  Mi Notebook Ultra 3.2K Resolution Display Inte...   \n",
       "4  ASUS TUF Gaming F15 (2021), 15.6\" (39.62 cms) ...   \n",
       "5  Lenovo IdeaPad Flex 5 11th Gen Intel Core i7 1...   \n",
       "6  Microsoft Surface Studio 14.4 inches Touchscre...   \n",
       "7  (Renewed) Acer Nitro 5 11th Gen Intel Core i5-...   \n",
       "8  Lenovo ThinkBook 15 Intel 11th Gen Core i7 15....   \n",
       "9  LG Gram 16 inches Intel Evo 11th Gen Core i7 U...   \n",
       "\n",
       "                                        Company Name Rating Date Posted  \\\n",
       "0  NTT DATA GLOBAL DELIVERY SERVICES PRIVATE LIMITED    3.9     11d ago   \n",
       "1                           HCL Technologies Limited    3.8     12d ago   \n",
       "2              WSP CONSULTANTS INDIA PRIVATE LIMITED    4.2     12d ago   \n",
       "3                  Microsoft India (R and D) Pvt Ltd    4.2     23d ago   \n",
       "4                               HCL Technologies Ltd    3.8     20d ago   \n",
       "5                         Jubilant Foodworks Limited    3.9     10d ago   \n",
       "6                                   HCL Technologies    3.8     27d ago   \n",
       "7               RATEGAIN TRAVEL TECHNOLOGIES LIMITED    3.7      5d ago   \n",
       "8                    Hanu Software Solutions Pvt Ltd    3.7     12d ago   \n",
       "9                Tavant Technologies India Pvt. Ltd.    4.0    1mon ago   \n",
       "\n",
       "          Salary  \n",
       "0    ₹ 3.5-5 LPA  \n",
       "1    ₹ 3.5-5 LPA  \n",
       "2  Not Disclosed  \n",
       "3  Not Disclosed  \n",
       "4  Not Disclosed  \n",
       "5  Not Disclosed  \n",
       "6    ₹ 30-45 LPA  \n",
       "7  Not Disclosed  \n",
       "8  Not Disclosed  \n",
       "9  Not Disclosed  "
      ]
     },
     "execution_count": 398,
     "metadata": {},
     "output_type": "execute_result"
    }
   ],
   "source": [
    "job_list = pd.DataFrame()\n",
    "job_list['Title'] = titles[0:10]\n",
    "job_list['Company Name'] = company\n",
    "job_list['Rating'] = rating\n",
    "job_list['Date Posted'] = PostDate1[0:10]\n",
    "job_list['Salary'] = salary6\n",
    "\n",
    "job_list"
   ]
  }
 ],
 "metadata": {
  "kernelspec": {
   "display_name": "Python 3",
   "language": "python",
   "name": "python3"
  },
  "language_info": {
   "codemirror_mode": {
    "name": "ipython",
    "version": 3
   },
   "file_extension": ".py",
   "mimetype": "text/x-python",
   "name": "python",
   "nbconvert_exporter": "python",
   "pygments_lexer": "ipython3",
   "version": "3.8.8"
  }
 },
 "nbformat": 4,
 "nbformat_minor": 5
}
